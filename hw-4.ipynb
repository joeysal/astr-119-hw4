{
 "cells": [
  {
   "cell_type": "code",
   "execution_count": null,
   "metadata": {},
   "outputs": [],
   "source": [
    "%matplotlib inline\n",
    "import matplotlib.pyplot as plt\n",
    "import numpy as np"
   ]
  },
  {
   "cell_type": "code",
   "execution_count": null,
   "metadata": {},
   "outputs": [],
   "source": [
    "def function_for_roots(x):\n",
    "    a = 1.01\n",
    "    b = -3.04\n",
    "    c = 2.07\n",
    "    return a*x**2 + b*x + c #get the roots of ax^2 + bx + c"
   ]
  },
  {
   "cell_type": "markdown",
   "metadata": {},
   "source": [
    "# Check whether the values are valid"
   ]
  },
  {
   "cell_type": "code",
   "execution_count": null,
   "metadata": {},
   "outputs": [],
   "source": [
    "def check_initial_values(f,x_min, x_max, tol):\n",
    "    \n",
    "    #check our intiial guesses\n",
    "    y_min = f(x_min)\n",
    "    y_max = f(x_max)\n",
    "    \n",
    "    #check that x_min and x_max contain a zero crossing\n",
    "    if(y_min*y_max>=0.0):\n",
    "        print(\"No zero crossing found in the range = \", x_min,x_max)\n",
    "        s = \"f(%f) = %f, f(%f) = %f\" % (x_min,y_min,x_max,y_max)\n",
    "        print(s)\n",
    "        return 0\n",
    "    \n",
    "    #if x_min is a root, then return flag == 1\n",
    "    if(np.fabs(y_min)<tol):\n",
    "        return 1\n",
    "    \n",
    "    #if x_max is a root, then return flag == 2\n",
    "    if(np.fabs(y_max)<tol):\n",
    "        return 2\n",
    "    \n",
    "    #if we reach this point then the bracket is valid\n",
    "    #and we will return 3\n",
    "    return 3"
   ]
  },
  {
   "cell_type": "markdown",
   "metadata": {},
   "source": [
    "# Now we will dfine the main work function"
   ]
  },
  {
   "cell_type": "code",
   "execution_count": null,
   "metadata": {},
   "outputs": [],
   "source": [
    "def bisection_root_finding(f, x_min_start, x_max_start, tol):\n",
    "    \n",
    "    #This function uses bisection search to find a root\n",
    "    \n",
    "    x_min = x_min_start  #minimum of bracket\n",
    "    x_max = x_max_start  #maximum of bracket\n",
    "    x_mid = 0.0\n",
    "    \n",
    "    y_min = f(x_min)   #Value at minimum\n",
    "    y_max = f(x_max)   #Value at maximum\n",
    "    y_mid = 0.0\n",
    "    \n",
    "    imax = 10000 #maximum number of iterations\n",
    "    i = 0   #iterator\n",
    "    \n",
    "    #check the intial values\n",
    "    flag = check_initial_values(f,x_min,x_max,tol)\n",
    "    if(flag==0):\n",
    "        print(\"Error in bisection_root_finding().\")\n",
    "        raise ValueError('Initial values invalid',x_min,x_max)\n",
    "    elif(flag==1):\n",
    "        #lucky guess\n",
    "        return x_min\n",
    "    elif(flag==2):\n",
    "        #another lucky guess\n",
    "        return x_max\n",
    "    \n",
    "    #if we reach here, then we need to conduct the search (iterate)\n",
    "    \n",
    "    #set a flag\n",
    "    flag = 1 \n",
    "    \n",
    "    #enter a while loop\n",
    "    while(flag):\n",
    "        x_mid = 0.5*(x_min+x_max)  #mid point\n",
    "        y_mid = f(x_mid) #function value at x_mid\n",
    "        \n",
    "        #check if x_mid is a root\n",
    "        if(np.fabs(y_mid)<tol):\n",
    "            flag = 0\n",
    "        else:\n",
    "            #x_mid is not a root\n",
    "            \n",
    "            #if the product of the function at the midpoint\n",
    "            #and at one of the end points is greater than\n",
    "            #zero, replace this end point\n",
    "            if(f(x_min)*f(x_mid)>0):\n",
    "                #replace x_min with x_mid\n",
    "                x_min = x_mid\n",
    "            else:\n",
    "                #replace x_max with x_mid\n",
    "                x_max = x_mid\n",
    "                \n",
    "        #print out the iteration\n",
    "        print(x_min,f(x_min),x_max,f(x_max))\n",
    "        \n",
    "        #count the iteration\n",
    "        i += 1\n",
    "        \n",
    "        #if we have exceeded the max number of iterations, exit\n",
    "        if(i>=imax):\n",
    "            print(\"Exceeded max number of iterations = \", i)\n",
    "            s = \"Min bracket. f(%f) = %f\" % (x_min,f(x_min))\n",
    "            print(s)\n",
    "            s = \"Max bracket f(%f) = %f\" % (x_max,f(x_max))\n",
    "            print(s)\n",
    "            s = \"Mid bracket f(%f) = %f\" % (x_mid,f(x_mid))\n",
    "            print(s)\n",
    "            raise StopIteration('Stopping iterations after ', i)\n",
    "    print(\"Total number of iteration: \", i)\n",
    "    return x_mid"
   ]
  },
  {
   "cell_type": "markdown",
   "metadata": {},
   "source": [
    "# Perform the search"
   ]
  },
  {
   "cell_type": "code",
   "execution_count": null,
   "metadata": {},
   "outputs": [],
   "source": [
    "x_min = 0\n",
    "x_max = 1.5\n",
    "tolerance = 1.0e-6\n",
    "\n",
    "#print the initial guess\n",
    "print(x_min,function_for_roots(x_min))\n",
    "print(x_max,function_for_roots(x_max))\n",
    "\n",
    "x_root = bisection_root_finding(function_for_roots,x_min,x_max,tolerance)\n",
    "y_root = function_for_roots(x_root)\n",
    "\n",
    "s = \"Root found with y(%f) - %f\" % (x_root,y_root)\n",
    "print(s)\n",
    "\n",
    "x_min1 = 1.5\n",
    "x_max1 = 3\n",
    "tolerance = 1.0e-6\n",
    "\n",
    "#print the initial guess\n",
    "print(x_min1,function_for_roots(x_min1))\n",
    "print(x_max1,function_for_roots(x_max1))\n",
    "\n",
    "x_root1 = bisection_root_finding(function_for_roots,x_min1,x_max1,tolerance)\n",
    "y_root1 = function_for_roots(x_root1)\n",
    "\n",
    "s1 = \"Root found with y(%f) - %f\" % (x_root1,y_root1)\n",
    "print(s1)"
   ]
  },
  {
   "cell_type": "code",
   "execution_count": null,
   "metadata": {},
   "outputs": [],
   "source": [
    "x = np.linspace(0,3,num = 1000,endpoint = True, dtype=float)\n",
    "y1 = 1.01*x**2 - 3.04*x + 2.07\n",
    "z = 0*x\n",
    "plt.xlim(0,3)\n",
    "plt.ylim(-0.5,2.1)\n",
    "plt.xlabel('x')\n",
    "plt.ylabel('f(x)')\n",
    "plt.plot(x,y1, label='function', color='mediumpurple')\n",
    "plt.plot(z, label='zero line', color='royalblue')\n",
    "\n",
    "plt.scatter(x_root,y_root, color='mediumseagreen')\n",
    "plt.scatter(x_root1,y_root1, color='mediumseagreen')\n",
    "plt.scatter(x_min, function_for_roots(x_min), color='black')\n",
    "plt.scatter(x_min1,function_for_roots(x_min1), color='black')\n",
    "plt.scatter(x_max1, function_for_roots(x_max1), color='black')\n",
    "\n",
    "\n",
    "plt.legend(loc=1,framealpha=.5)"
   ]
  },
  {
   "cell_type": "code",
   "execution_count": null,
   "metadata": {},
   "outputs": [],
   "source": []
  }
 ],
 "metadata": {
  "kernelspec": {
   "display_name": "Python 3",
   "language": "python",
   "name": "python3"
  },
  "language_info": {
   "codemirror_mode": {
    "name": "ipython",
    "version": 3
   },
   "file_extension": ".py",
   "mimetype": "text/x-python",
   "name": "python",
   "nbconvert_exporter": "python",
   "pygments_lexer": "ipython3",
   "version": "3.8.5"
  }
 },
 "nbformat": 4,
 "nbformat_minor": 4
}
